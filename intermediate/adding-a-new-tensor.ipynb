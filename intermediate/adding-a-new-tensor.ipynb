{
 "cells": [
  {
   "cell_type": "code",
   "execution_count": 1,
   "metadata": {},
   "outputs": [
    {
     "name": "stderr",
     "output_type": "stream",
     "text": [
      "/Users/gavin/anaconda2/envs/openmined/lib/python3.6/site-packages/IPython/html.py:14: ShimWarning: The `IPython.html` package has been deprecated since IPython 4.0. You should import from `notebook` instead. `IPython.html.widgets` has moved to `ipywidgets`.\n",
      "  \"`IPython.html.widgets` has moved to `ipywidgets`.\", ShimWarning)\n",
      "Import warning: PyTorch capabilities not available due to torch module not found on your system\n",
      "How to install PyTorch: http://pytorch.org/"
     ]
    }
   ],
   "source": [
    "import syft\n",
    "import syft.nn as nn\n",
    "from syft.controller import tensors\n",
    "import imp\n",
    "imp.reload(syft.controller)\n",
    "imp.reload(syft.nn)\n",
    "imp.reload(syft)\n",
    "\n",
    "import numpy as np\n",
    "from syft import FloatTensor, IntTensor"
   ]
  },
  {
   "cell_type": "code",
   "execution_count": 2,
   "metadata": {},
   "outputs": [],
   "source": [
    "# FloatTensor Init\n",
    "a = FloatTensor(np.array([-1,-2,3,4,5,-6]).astype('float'))\n",
    "b = FloatTensor(np.array([-30,-32,33,34,35,-36]).astype('float'))"
   ]
  },
  {
   "cell_type": "code",
   "execution_count": 3,
   "metadata": {},
   "outputs": [
    {
     "data": {
      "text/plain": [
       "[  4.   3.   8.   9.  10.  -1.]\n",
       "[syft.FloatTensor:3 grad:None size:6 c:[] p:[1, 4] init:add_scalar]\n",
       "\n",
       "\t-----------creators-----------\n",
       "\t[syft.FloatTensor:1 grad:None size:6 c:[3] p:[] init:]\n",
       "\t[syft.FloatTensor:4 grad:None size:1 c:[] p:[] init:add_scalar]\n",
       "\t------------------------------\n",
       "\n"
      ]
     },
     "execution_count": 3,
     "metadata": {},
     "output_type": "execute_result"
    }
   ],
   "source": [
    "# FloatTensor Add Elem\n",
    "a + 5"
   ]
  },
  {
   "cell_type": "code",
   "execution_count": 4,
   "metadata": {},
   "outputs": [
    {
     "data": {
      "text/plain": [
       "[-31. -34.  36.  38.  40. -42.]\n",
       "[syft.FloatTensor:5 grad:None size:6 c:[] p:[1, 2] init:add_elem]\n",
       "\n",
       "\t-----------creators-----------\n",
       "\t[syft.FloatTensor:1 grad:None size:6 c:[3, 5] p:[] init:]\n",
       "\t[syft.FloatTensor:2 grad:None size:6 c:[5] p:[] init:]\n",
       "\t------------------------------\n",
       "\n"
      ]
     },
     "execution_count": 4,
     "metadata": {},
     "output_type": "execute_result"
    }
   ],
   "source": [
    "# FloatTensor Add Scalar\n",
    "a + b"
   ]
  },
  {
   "cell_type": "code",
   "execution_count": 5,
   "metadata": {},
   "outputs": [
    {
     "data": {
      "text/plain": [
       "[-30. -32.  33.  34.  35. -36.]\n",
       "[syft.FloatTensor:7 grad:None size:6 c:[] p:[] init:]"
      ]
     },
     "execution_count": 5,
     "metadata": {},
     "output_type": "execute_result"
    }
   ],
   "source": [
    "# FloatTensor GPU\n",
    "a = FloatTensor(np.array([-1,-2,3,4,5,-6]).astype('float'))\n",
    "b = FloatTensor(np.array([-30,-32,33,34,35,-36]).astype('float'))\n",
    "a.gpu()\n",
    "b.gpu()"
   ]
  },
  {
   "cell_type": "code",
   "execution_count": 6,
   "metadata": {},
   "outputs": [
    {
     "data": {
      "text/plain": [
       "[  4.   3.   8.   9.  10.  -1.]\n",
       "[syft.FloatTensor:8 grad:None size:6 c:[] p:[6, 9] init:add_scalar]\n",
       "\n",
       "\t-----------creators-----------\n",
       "\t[syft.FloatTensor:6 grad:None size:6 c:[8] p:[] init:]\n",
       "\t[syft.FloatTensor:9 grad:None size:1 c:[] p:[] init:add_scalar]\n",
       "\t------------------------------\n",
       "\n"
      ]
     },
     "execution_count": 6,
     "metadata": {},
     "output_type": "execute_result"
    }
   ],
   "source": [
    "# FloatTensor Add Elem GPU\n",
    "a + 5"
   ]
  },
  {
   "cell_type": "code",
   "execution_count": 7,
   "metadata": {},
   "outputs": [
    {
     "data": {
      "text/plain": [
       "[-31. -34.  36.  38.  40. -42.]\n",
       "[syft.FloatTensor:10 grad:None size:6 c:[] p:[6, 7] init:add_elem]\n",
       "\n",
       "\t-----------creators-----------\n",
       "\t[syft.FloatTensor:6 grad:None size:6 c:[8, 10] p:[] init:]\n",
       "\t[syft.FloatTensor:7 grad:None size:6 c:[10] p:[] init:]\n",
       "\t------------------------------\n",
       "\n"
      ]
     },
     "execution_count": 7,
     "metadata": {},
     "output_type": "execute_result"
    }
   ],
   "source": [
    "# FloatTensor Add Scalar GPU\n",
    "a + b"
   ]
  },
  {
   "cell_type": "code",
   "execution_count": 8,
   "metadata": {},
   "outputs": [],
   "source": [
    "# IntTensor Init\n",
    "a = IntTensor(np.array([-1,-2,3,4,5,-6]))\n",
    "b = IntTensor(np.array([-30,-32,33,34,35,-36]))"
   ]
  },
  {
   "cell_type": "code",
   "execution_count": 9,
   "metadata": {},
   "outputs": [
    {
     "data": {
      "text/plain": [
       "[ 4  3  8  9 10 -1]\n",
       "[syft.IntTensor:3 size:6]"
      ]
     },
     "execution_count": 9,
     "metadata": {},
     "output_type": "execute_result"
    }
   ],
   "source": [
    "# IntTensor Add Elem\n",
    "a + 5"
   ]
  },
  {
   "cell_type": "code",
   "execution_count": 10,
   "metadata": {},
   "outputs": [
    {
     "data": {
      "text/plain": [
       "[-31 -34  36  38  40 -42]\n",
       "[syft.IntTensor:4 size:6]"
      ]
     },
     "execution_count": 10,
     "metadata": {},
     "output_type": "execute_result"
    }
   ],
   "source": [
    "# IntTensor Add Scalar\n",
    "a + b"
   ]
  },
  {
   "cell_type": "code",
   "execution_count": 11,
   "metadata": {},
   "outputs": [
    {
     "data": {
      "text/plain": [
       "[-30 -32  33  34  35 -36]\n",
       "[syft.IntTensor:6 size:6]"
      ]
     },
     "execution_count": 11,
     "metadata": {},
     "output_type": "execute_result"
    }
   ],
   "source": [
    "# IntTensor GPU\n",
    "a = IntTensor(np.array([-1,-2,3,4,5,-6]))\n",
    "b = IntTensor(np.array([-30,-32,33,34,35,-36]))\n",
    "a.gpu()\n",
    "b.gpu()"
   ]
  },
  {
   "cell_type": "code",
   "execution_count": 12,
   "metadata": {},
   "outputs": [
    {
     "data": {
      "text/plain": [
       "[ 4  3  8  9 10 -1]\n",
       "[syft.IntTensor:7 size:6]"
      ]
     },
     "execution_count": 12,
     "metadata": {},
     "output_type": "execute_result"
    }
   ],
   "source": [
    "# IntTensor Add Elem GPU\n",
    "a + 5"
   ]
  },
  {
   "cell_type": "code",
   "execution_count": 13,
   "metadata": {},
   "outputs": [
    {
     "data": {
      "text/plain": [
       "[-31 -34  36  38  40 -42]\n",
       "[syft.IntTensor:8 size:6]"
      ]
     },
     "execution_count": 13,
     "metadata": {},
     "output_type": "execute_result"
    }
   ],
   "source": [
    "# IntTensor Add Elem CPU\n",
    "a + b"
   ]
  },
  {
   "cell_type": "code",
   "execution_count": null,
   "metadata": {},
   "outputs": [],
   "source": []
  }
 ],
 "metadata": {
  "kernelspec": {
   "display_name": "Python 3",
   "language": "python",
   "name": "python3"
  },
  "language_info": {
   "codemirror_mode": {
    "name": "ipython",
    "version": 3
   },
   "file_extension": ".py",
   "mimetype": "text/x-python",
   "name": "python",
   "nbconvert_exporter": "python",
   "pygments_lexer": "ipython3",
   "version": "3.6.2"
  }
 },
 "nbformat": 4,
 "nbformat_minor": 2
}
